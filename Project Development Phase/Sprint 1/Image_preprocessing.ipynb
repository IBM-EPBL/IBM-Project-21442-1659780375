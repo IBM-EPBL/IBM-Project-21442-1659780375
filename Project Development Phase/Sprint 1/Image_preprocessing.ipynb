{
 "cells": [
  {
   "cell_type": "markdown",
   "id": "99d4a06c",
   "metadata": {},
   "source": [
    "# Image Preprocessing\n"
   ]
  },
  {
   "cell_type": "code",
   "execution_count": 5,
   "id": "c7d30d94",
   "metadata": {},
   "outputs": [],
   "source": [
    "from keras.preprocessing.image import ImageDataGenerator\n"
   ]
  },
  {
   "cell_type": "markdown",
   "id": "66fc6003",
   "metadata": {},
   "source": [
    "***Configure ImageDataGenerator Class***"
   ]
  },
  {
   "cell_type": "code",
   "execution_count": 8,
   "id": "f44e4d02",
   "metadata": {},
   "outputs": [],
   "source": [
    "train_datagen=ImageDataGenerator(rescale=1./255,shear_range=0.2,zoom_range=0.2,horizontal_flip=True)\n",
    "test_datagen = ImageDataGenerator(rescale=1./255)"
   ]
  },
  {
   "cell_type": "markdown",
   "id": "7b7886fd",
   "metadata": {},
   "source": [
    "***Apply ImageDataGenerator Functionality To TrainSet And TestSet***"
   ]
  },
  {
   "cell_type": "code",
   "execution_count": 9,
   "id": "00ae9a4c",
   "metadata": {},
   "outputs": [
    {
     "name": "stdout",
     "output_type": "stream",
     "text": [
      "Found 594 images belonging to 6 classes.\n",
      "Found 30 images belonging to 6 classes.\n"
     ]
    }
   ],
   "source": [
    "x_train=train_datagen.flow_from_directory( r'C:\\Users\\DELL\\Desktop\\IBM project\\My project\\Dataset\\train',target_size=(64,64),batch_size=5,color_mode='grayscale',class_mode='categorical')\n",
    "x_test=test_datagen.flow_from_directory( r'C:\\Users\\DELL\\Desktop\\IBM project\\My project\\Dataset\\test',target_size=(64,64),batch_size=5,color_mode='grayscale',class_mode='categorical')\n"
   ]
  },
  {
   "cell_type": "code",
   "execution_count": null,
   "id": "a4019e59",
   "metadata": {},
   "outputs": [],
   "source": []
  }
 ],
 "metadata": {
  "kernelspec": {
   "display_name": "Python 3 (ipykernel)",
   "language": "python",
   "name": "python3"
  },
  "language_info": {
   "codemirror_mode": {
    "name": "ipython",
    "version": 3
   },
   "file_extension": ".py",
   "mimetype": "text/x-python",
   "name": "python",
   "nbconvert_exporter": "python",
   "pygments_lexer": "ipython3",
   "version": "3.9.13"
  }
 },
 "nbformat": 4,
 "nbformat_minor": 5
}
