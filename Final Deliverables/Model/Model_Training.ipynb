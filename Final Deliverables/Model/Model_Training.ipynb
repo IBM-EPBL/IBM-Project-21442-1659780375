{
 "cells": [
  {
   "cell_type": "markdown",
   "metadata": {},
   "source": [
    "# Model Building"
   ]
  },
  {
   "cell_type": "markdown",
   "metadata": {},
   "source": [
    "### Importing libraries"
   ]
  },
  {
   "cell_type": "code",
   "execution_count": 1,
   "metadata": {},
   "outputs": [],
   "source": [
    "import numpy as np\n",
    "import tensorflow as tf\n",
    "from tensorflow.keras.models import Sequential \n",
    "from tensorflow.keras.layers import Dense,Flatten, Dropout\n",
    "from tensorflow.keras.layers import Convolution2D,MaxPooling2D \n",
    "from tensorflow.keras.preprocessing.image import ImageDataGenerator"
   ]
  },
  {
   "cell_type": "markdown",
   "metadata": {},
   "source": [
    "### Augmenting the data "
   ]
  },
  {
   "cell_type": "code",
   "execution_count": 2,
   "metadata": {},
   "outputs": [],
   "source": [
    "train = ImageDataGenerator(rescale=1./255,shear_range=0.2,zoom_range=0.2,horizontal_flip=True)\n",
    "test = ImageDataGenerator(rescale=1./255)"
   ]
  },
  {
   "cell_type": "markdown",
   "metadata": {},
   "source": [
    "### Loading our data and performing data agumentation"
   ]
  },
  {
   "cell_type": "code",
   "execution_count": 3,
   "metadata": {},
   "outputs": [
    {
     "name": "stdout",
     "output_type": "stream",
     "text": [
      "Found 594 images belonging to 6 classes.\n",
      "Found 30 images belonging to 6 classes.\n"
     ]
    }
   ],
   "source": [
    "x_train = train.flow_from_directory(r'C:\\Users\\DELL\\Desktop\\IBM project\\train',target_size=(64, 64),batch_size=3,color_mode='grayscale',class_mode='categorical')\n",
    "x_test = test.flow_from_directory(r'C:\\Users\\DELL\\Desktop\\IBM project\\test',target_size=(64, 64),batch_size=3,color_mode='grayscale',class_mode='categorical') "
   ]
  },
  {
   "cell_type": "code",
   "execution_count": 4,
   "metadata": {},
   "outputs": [
    {
     "name": "stdout",
     "output_type": "stream",
     "text": [
      "{'0': 0, '1': 1, '2': 2, '3': 3, '4': 4, '5': 5}\n"
     ]
    }
   ],
   "source": [
    "print(x_train.class_indices)"
   ]
  },
  {
   "cell_type": "markdown",
   "metadata": {},
   "source": [
    "### Model Creation"
   ]
  },
  {
   "cell_type": "code",
   "execution_count": 5,
   "metadata": {},
   "outputs": [],
   "source": [
    "model = Sequential()"
   ]
  },
  {
   "cell_type": "markdown",
   "metadata": {},
   "source": [
    "**Adding Layers**"
   ]
  },
  {
   "cell_type": "code",
   "execution_count": 6,
   "metadata": {},
   "outputs": [],
   "source": [
    "model.add(Convolution2D(32, (3, 3), input_shape=(64, 64, 1), activation='relu'))\n",
    "model.add(MaxPooling2D(pool_size=(2, 2)))"
   ]
  },
  {
   "cell_type": "code",
   "execution_count": 7,
   "metadata": {},
   "outputs": [],
   "source": [
    "model.add(Convolution2D(32, (3, 3), activation='relu'))\n",
    "model.add(MaxPooling2D(pool_size=(2,2)))"
   ]
  },
  {
   "cell_type": "code",
   "execution_count": 8,
   "metadata": {},
   "outputs": [],
   "source": [
    "model.add(Flatten())"
   ]
  },
  {
   "cell_type": "code",
   "execution_count": 9,
   "metadata": {},
   "outputs": [],
   "source": [
    "model.add(Dense(units=512 , activation='relu'))"
   ]
  },
  {
   "cell_type": "code",
   "execution_count": 10,
   "metadata": {},
   "outputs": [],
   "source": [
    "model.add(Dense(units=6, activation='softmax')) "
   ]
  },
  {
   "cell_type": "code",
   "execution_count": 11,
   "metadata": {},
   "outputs": [
    {
     "name": "stdout",
     "output_type": "stream",
     "text": [
      "Model: \"sequential\"\n",
      "_________________________________________________________________\n",
      " Layer (type)                Output Shape              Param #   \n",
      "=================================================================\n",
      " conv2d (Conv2D)             (None, 62, 62, 32)        320       \n",
      "                                                                 \n",
      " max_pooling2d (MaxPooling2D  (None, 31, 31, 32)       0         \n",
      " )                                                               \n",
      "                                                                 \n",
      " conv2d_1 (Conv2D)           (None, 29, 29, 32)        9248      \n",
      "                                                                 \n",
      " max_pooling2d_1 (MaxPooling  (None, 14, 14, 32)       0         \n",
      " 2D)                                                             \n",
      "                                                                 \n",
      " flatten (Flatten)           (None, 6272)              0         \n",
      "                                                                 \n",
      " dense (Dense)               (None, 512)               3211776   \n",
      "                                                                 \n",
      " dense_1 (Dense)             (None, 6)                 3078      \n",
      "                                                                 \n",
      "=================================================================\n",
      "Total params: 3,224,422\n",
      "Trainable params: 3,224,422\n",
      "Non-trainable params: 0\n",
      "_________________________________________________________________\n"
     ]
    }
   ],
   "source": [
    "model.summary()"
   ]
  },
  {
   "cell_type": "markdown",
   "metadata": {},
   "source": [
    "### Compile the Model"
   ]
  },
  {
   "cell_type": "code",
   "execution_count": 12,
   "metadata": {},
   "outputs": [],
   "source": [
    "model.compile(optimizer='adam', loss='categorical_crossentropy', metrics=['accuracy']) "
   ]
  },
  {
   "cell_type": "markdown",
   "metadata": {},
   "source": [
    "## Fit the Model"
   ]
  },
  {
   "cell_type": "code",
   "execution_count": 13,
   "metadata": {},
   "outputs": [
    {
     "name": "stdout",
     "output_type": "stream",
     "text": [
      "Epoch 1/100\n",
      "198/198 [==============================] - 20s 97ms/step - loss: 1.3221 - accuracy: 0.4747 - val_loss: 0.9082 - val_accuracy: 0.6333\n",
      "Epoch 2/100\n",
      "198/198 [==============================] - 19s 96ms/step - loss: 0.5843 - accuracy: 0.7677 - val_loss: 0.7697 - val_accuracy: 0.7000\n",
      "Epoch 3/100\n",
      "198/198 [==============================] - 19s 96ms/step - loss: 0.3982 - accuracy: 0.8502 - val_loss: 0.4936 - val_accuracy: 0.9000\n",
      "Epoch 4/100\n",
      "198/198 [==============================] - 19s 95ms/step - loss: 0.3196 - accuracy: 0.8653 - val_loss: 0.4028 - val_accuracy: 0.9333\n",
      "Epoch 5/100\n",
      "198/198 [==============================] - 19s 94ms/step - loss: 0.2669 - accuracy: 0.9158 - val_loss: 0.2845 - val_accuracy: 0.9333\n",
      "Epoch 6/100\n",
      "198/198 [==============================] - 18s 93ms/step - loss: 0.1626 - accuracy: 0.9444 - val_loss: 0.2975 - val_accuracy: 0.9333\n",
      "Epoch 7/100\n",
      "198/198 [==============================] - 19s 94ms/step - loss: 0.1218 - accuracy: 0.9562 - val_loss: 0.2706 - val_accuracy: 0.9667\n",
      "Epoch 8/100\n",
      "198/198 [==============================] - 18s 93ms/step - loss: 0.0843 - accuracy: 0.9747 - val_loss: 0.3308 - val_accuracy: 0.9333\n",
      "Epoch 9/100\n",
      "198/198 [==============================] - 19s 94ms/step - loss: 0.1361 - accuracy: 0.9596 - val_loss: 0.5071 - val_accuracy: 0.9333\n",
      "Epoch 10/100\n",
      "198/198 [==============================] - 19s 95ms/step - loss: 0.1058 - accuracy: 0.9630 - val_loss: 0.5518 - val_accuracy: 0.8667\n",
      "Epoch 11/100\n",
      "198/198 [==============================] - 19s 95ms/step - loss: 0.0926 - accuracy: 0.9714 - val_loss: 0.3460 - val_accuracy: 0.9333\n",
      "Epoch 12/100\n",
      "198/198 [==============================] - 18s 93ms/step - loss: 0.0398 - accuracy: 0.9848 - val_loss: 0.3949 - val_accuracy: 0.9000\n",
      "Epoch 13/100\n",
      "198/198 [==============================] - 19s 95ms/step - loss: 0.1047 - accuracy: 0.9680 - val_loss: 0.3456 - val_accuracy: 0.8667\n",
      "Epoch 14/100\n",
      "198/198 [==============================] - 19s 94ms/step - loss: 0.0416 - accuracy: 0.9848 - val_loss: 0.3697 - val_accuracy: 0.9333\n",
      "Epoch 15/100\n",
      "198/198 [==============================] - 18s 93ms/step - loss: 0.0353 - accuracy: 0.9916 - val_loss: 0.4763 - val_accuracy: 0.9333\n",
      "Epoch 16/100\n",
      "198/198 [==============================] - 19s 97ms/step - loss: 0.0335 - accuracy: 0.9865 - val_loss: 0.4593 - val_accuracy: 0.9667\n",
      "Epoch 17/100\n",
      "198/198 [==============================] - 20s 100ms/step - loss: 0.0479 - accuracy: 0.9832 - val_loss: 0.4830 - val_accuracy: 0.9000\n",
      "Epoch 18/100\n",
      "198/198 [==============================] - 19s 96ms/step - loss: 0.0295 - accuracy: 0.9899 - val_loss: 0.2374 - val_accuracy: 0.9333\n",
      "Epoch 19/100\n",
      "198/198 [==============================] - 19s 95ms/step - loss: 0.0278 - accuracy: 0.9933 - val_loss: 0.2478 - val_accuracy: 0.9333\n",
      "Epoch 20/100\n",
      "198/198 [==============================] - 19s 96ms/step - loss: 0.0147 - accuracy: 0.9933 - val_loss: 0.3511 - val_accuracy: 0.9333\n",
      "Epoch 21/100\n",
      "198/198 [==============================] - 19s 94ms/step - loss: 0.0573 - accuracy: 0.9815 - val_loss: 0.7759 - val_accuracy: 0.8667\n",
      "Epoch 22/100\n",
      "198/198 [==============================] - 20s 102ms/step - loss: 0.0125 - accuracy: 0.9966 - val_loss: 0.7071 - val_accuracy: 0.8667\n",
      "Epoch 23/100\n",
      "198/198 [==============================] - 19s 96ms/step - loss: 0.0171 - accuracy: 0.9933 - val_loss: 1.4161 - val_accuracy: 0.8333\n",
      "Epoch 24/100\n",
      "198/198 [==============================] - 19s 95ms/step - loss: 0.0410 - accuracy: 0.9865 - val_loss: 0.5400 - val_accuracy: 0.9000\n",
      "Epoch 25/100\n",
      "198/198 [==============================] - 19s 97ms/step - loss: 0.0871 - accuracy: 0.9747 - val_loss: 0.4790 - val_accuracy: 0.9000\n",
      "Epoch 26/100\n",
      "198/198 [==============================] - 19s 98ms/step - loss: 0.0449 - accuracy: 0.9865 - val_loss: 0.8304 - val_accuracy: 0.9000\n",
      "Epoch 27/100\n",
      "198/198 [==============================] - 19s 94ms/step - loss: 0.0235 - accuracy: 0.9882 - val_loss: 0.7309 - val_accuracy: 0.8667\n",
      "Epoch 28/100\n",
      "198/198 [==============================] - 19s 98ms/step - loss: 0.0303 - accuracy: 0.9949 - val_loss: 0.4465 - val_accuracy: 0.9667\n",
      "Epoch 29/100\n",
      "198/198 [==============================] - 19s 96ms/step - loss: 0.0223 - accuracy: 0.9882 - val_loss: 0.6785 - val_accuracy: 0.8667\n",
      "Epoch 30/100\n",
      "198/198 [==============================] - 19s 98ms/step - loss: 0.0183 - accuracy: 0.9966 - val_loss: 0.4131 - val_accuracy: 0.9667\n",
      "Epoch 31/100\n",
      "198/198 [==============================] - 21s 106ms/step - loss: 0.0167 - accuracy: 0.9949 - val_loss: 0.3216 - val_accuracy: 0.9667\n",
      "Epoch 32/100\n",
      "198/198 [==============================] - 19s 97ms/step - loss: 0.0282 - accuracy: 0.9916 - val_loss: 0.5940 - val_accuracy: 0.9667\n",
      "Epoch 33/100\n",
      "198/198 [==============================] - 18s 91ms/step - loss: 0.0026 - accuracy: 1.0000 - val_loss: 0.8460 - val_accuracy: 0.9333\n",
      "Epoch 34/100\n",
      "198/198 [==============================] - 18s 91ms/step - loss: 0.0494 - accuracy: 0.9815 - val_loss: 0.3607 - val_accuracy: 0.9333\n",
      "Epoch 35/100\n",
      "198/198 [==============================] - 19s 95ms/step - loss: 0.0579 - accuracy: 0.9781 - val_loss: 0.4472 - val_accuracy: 0.9000\n",
      "Epoch 36/100\n",
      "198/198 [==============================] - 19s 97ms/step - loss: 0.0150 - accuracy: 0.9949 - val_loss: 0.3791 - val_accuracy: 0.9667\n",
      "Epoch 37/100\n",
      "198/198 [==============================] - 19s 94ms/step - loss: 0.0064 - accuracy: 0.9983 - val_loss: 0.6080 - val_accuracy: 0.9333\n",
      "Epoch 38/100\n",
      "198/198 [==============================] - 19s 95ms/step - loss: 6.3393e-04 - accuracy: 1.0000 - val_loss: 0.5935 - val_accuracy: 0.9333\n",
      "Epoch 39/100\n",
      "198/198 [==============================] - 19s 95ms/step - loss: 0.0058 - accuracy: 0.9966 - val_loss: 0.6707 - val_accuracy: 0.9333\n",
      "Epoch 40/100\n",
      "198/198 [==============================] - 19s 95ms/step - loss: 0.0652 - accuracy: 0.9848 - val_loss: 0.4935 - val_accuracy: 0.9333\n",
      "Epoch 41/100\n",
      "198/198 [==============================] - 19s 97ms/step - loss: 0.0066 - accuracy: 0.9983 - val_loss: 0.4605 - val_accuracy: 0.9667\n",
      "Epoch 42/100\n",
      "198/198 [==============================] - 19s 96ms/step - loss: 0.0013 - accuracy: 1.0000 - val_loss: 0.4695 - val_accuracy: 0.9667\n",
      "Epoch 43/100\n",
      "198/198 [==============================] - 19s 96ms/step - loss: 0.0079 - accuracy: 0.9966 - val_loss: 0.5783 - val_accuracy: 0.9333\n",
      "Epoch 44/100\n",
      "198/198 [==============================] - 19s 95ms/step - loss: 0.0570 - accuracy: 0.9832 - val_loss: 0.5195 - val_accuracy: 0.9333\n",
      "Epoch 45/100\n",
      "198/198 [==============================] - 19s 96ms/step - loss: 0.0543 - accuracy: 0.9815 - val_loss: 0.3636 - val_accuracy: 0.9333\n",
      "Epoch 46/100\n",
      "198/198 [==============================] - 22s 110ms/step - loss: 0.0141 - accuracy: 0.9933 - val_loss: 0.2742 - val_accuracy: 0.9667\n",
      "Epoch 47/100\n",
      "198/198 [==============================] - 24s 120ms/step - loss: 0.0263 - accuracy: 0.9949 - val_loss: 0.3115 - val_accuracy: 0.9667\n",
      "Epoch 48/100\n",
      "198/198 [==============================] - 22s 111ms/step - loss: 0.0486 - accuracy: 0.9865 - val_loss: 0.4568 - val_accuracy: 0.9667\n",
      "Epoch 49/100\n",
      "198/198 [==============================] - 21s 107ms/step - loss: 0.0473 - accuracy: 0.9865 - val_loss: 0.4278 - val_accuracy: 0.9333\n",
      "Epoch 50/100\n",
      "198/198 [==============================] - 19s 95ms/step - loss: 0.0292 - accuracy: 0.9882 - val_loss: 0.3356 - val_accuracy: 0.9333\n",
      "Epoch 51/100\n",
      "198/198 [==============================] - 21s 104ms/step - loss: 0.0103 - accuracy: 0.9983 - val_loss: 0.3264 - val_accuracy: 0.9667\n",
      "Epoch 52/100\n",
      "198/198 [==============================] - 19s 97ms/step - loss: 0.0047 - accuracy: 0.9983 - val_loss: 0.3429 - val_accuracy: 0.9667\n",
      "Epoch 53/100\n",
      "198/198 [==============================] - 21s 106ms/step - loss: 0.0011 - accuracy: 1.0000 - val_loss: 0.4094 - val_accuracy: 0.9667\n",
      "Epoch 54/100\n",
      "198/198 [==============================] - 19s 95ms/step - loss: 0.0050 - accuracy: 0.9966 - val_loss: 0.4877 - val_accuracy: 0.9667\n",
      "Epoch 55/100\n",
      "198/198 [==============================] - 22s 109ms/step - loss: 0.0250 - accuracy: 0.9916 - val_loss: 0.7312 - val_accuracy: 0.9667\n",
      "Epoch 56/100\n",
      "198/198 [==============================] - 21s 107ms/step - loss: 0.0250 - accuracy: 0.9916 - val_loss: 0.5853 - val_accuracy: 0.9667\n",
      "Epoch 57/100\n"
     ]
    },
    {
     "name": "stdout",
     "output_type": "stream",
     "text": [
      "198/198 [==============================] - 20s 103ms/step - loss: 0.0278 - accuracy: 0.9916 - val_loss: 0.6403 - val_accuracy: 0.9667\n",
      "Epoch 58/100\n",
      "198/198 [==============================] - 21s 108ms/step - loss: 0.0230 - accuracy: 0.9899 - val_loss: 0.3602 - val_accuracy: 0.9667\n",
      "Epoch 59/100\n",
      "198/198 [==============================] - 20s 103ms/step - loss: 0.0923 - accuracy: 0.9781 - val_loss: 0.3547 - val_accuracy: 0.9333\n",
      "Epoch 60/100\n",
      "198/198 [==============================] - 20s 100ms/step - loss: 0.0058 - accuracy: 0.9983 - val_loss: 0.7616 - val_accuracy: 0.9333\n",
      "Epoch 61/100\n",
      "198/198 [==============================] - 20s 102ms/step - loss: 0.0068 - accuracy: 0.9966 - val_loss: 0.5595 - val_accuracy: 0.9667\n",
      "Epoch 62/100\n",
      "198/198 [==============================] - 20s 101ms/step - loss: 0.0079 - accuracy: 0.9966 - val_loss: 0.6207 - val_accuracy: 0.9667\n",
      "Epoch 63/100\n",
      "198/198 [==============================] - 21s 108ms/step - loss: 0.0184 - accuracy: 0.9949 - val_loss: 0.5831 - val_accuracy: 0.9667\n",
      "Epoch 64/100\n",
      "198/198 [==============================] - 22s 110ms/step - loss: 0.0058 - accuracy: 0.9983 - val_loss: 0.6171 - val_accuracy: 0.9667\n",
      "Epoch 65/100\n",
      "198/198 [==============================] - 21s 108ms/step - loss: 9.8658e-04 - accuracy: 1.0000 - val_loss: 0.6732 - val_accuracy: 0.9667\n",
      "Epoch 66/100\n",
      "198/198 [==============================] - 22s 109ms/step - loss: 0.0198 - accuracy: 0.9966 - val_loss: 0.3419 - val_accuracy: 0.9667\n",
      "Epoch 67/100\n",
      "198/198 [==============================] - 22s 110ms/step - loss: 0.0437 - accuracy: 0.9865 - val_loss: 0.4924 - val_accuracy: 0.9667\n",
      "Epoch 68/100\n",
      "198/198 [==============================] - 20s 101ms/step - loss: 0.0015 - accuracy: 1.0000 - val_loss: 0.5274 - val_accuracy: 0.9667\n",
      "Epoch 69/100\n",
      "198/198 [==============================] - 21s 104ms/step - loss: 9.8094e-04 - accuracy: 1.0000 - val_loss: 0.5467 - val_accuracy: 0.9667\n",
      "Epoch 70/100\n",
      "198/198 [==============================] - 21s 106ms/step - loss: 0.0119 - accuracy: 0.9949 - val_loss: 0.8729 - val_accuracy: 0.8333\n",
      "Epoch 71/100\n",
      "198/198 [==============================] - 21s 106ms/step - loss: 0.0148 - accuracy: 0.9949 - val_loss: 0.9825 - val_accuracy: 0.9667\n",
      "Epoch 72/100\n",
      "198/198 [==============================] - 20s 99ms/step - loss: 0.0017 - accuracy: 1.0000 - val_loss: 0.5089 - val_accuracy: 0.9667\n",
      "Epoch 73/100\n",
      "198/198 [==============================] - 20s 101ms/step - loss: 0.0013 - accuracy: 1.0000 - val_loss: 0.7023 - val_accuracy: 0.9667\n",
      "Epoch 74/100\n",
      "198/198 [==============================] - 20s 102ms/step - loss: 0.0313 - accuracy: 0.9916 - val_loss: 0.6932 - val_accuracy: 0.9667\n",
      "Epoch 75/100\n",
      "198/198 [==============================] - 20s 100ms/step - loss: 0.0231 - accuracy: 0.9899 - val_loss: 0.6065 - val_accuracy: 0.9667\n",
      "Epoch 76/100\n",
      "198/198 [==============================] - 20s 103ms/step - loss: 0.0209 - accuracy: 0.9916 - val_loss: 0.9726 - val_accuracy: 0.9000\n",
      "Epoch 77/100\n",
      "198/198 [==============================] - 20s 103ms/step - loss: 0.0175 - accuracy: 0.9966 - val_loss: 0.7052 - val_accuracy: 0.9667\n",
      "Epoch 78/100\n",
      "198/198 [==============================] - 21s 104ms/step - loss: 0.0145 - accuracy: 0.9933 - val_loss: 0.6308 - val_accuracy: 0.9333\n",
      "Epoch 79/100\n",
      "198/198 [==============================] - 21s 105ms/step - loss: 0.0237 - accuracy: 0.9983 - val_loss: 0.6370 - val_accuracy: 0.9667\n",
      "Epoch 80/100\n",
      "198/198 [==============================] - 19s 98ms/step - loss: 7.6378e-05 - accuracy: 1.0000 - val_loss: 0.6456 - val_accuracy: 0.9667\n",
      "Epoch 81/100\n",
      "198/198 [==============================] - 21s 106ms/step - loss: 3.3203e-04 - accuracy: 1.0000 - val_loss: 0.6748 - val_accuracy: 0.9667\n",
      "Epoch 82/100\n",
      "198/198 [==============================] - 22s 109ms/step - loss: 8.7423e-04 - accuracy: 1.0000 - val_loss: 0.4136 - val_accuracy: 0.9667\n",
      "Epoch 83/100\n",
      "198/198 [==============================] - 24s 123ms/step - loss: 6.3571e-04 - accuracy: 1.0000 - val_loss: 0.8023 - val_accuracy: 0.9667\n",
      "Epoch 84/100\n",
      "198/198 [==============================] - 20s 102ms/step - loss: 1.3827e-04 - accuracy: 1.0000 - val_loss: 0.7377 - val_accuracy: 0.9667\n",
      "Epoch 85/100\n",
      "198/198 [==============================] - 20s 102ms/step - loss: 3.6170e-04 - accuracy: 1.0000 - val_loss: 0.8129 - val_accuracy: 0.9667\n",
      "Epoch 86/100\n",
      "198/198 [==============================] - 21s 106ms/step - loss: 0.0030 - accuracy: 0.9983 - val_loss: 0.6734 - val_accuracy: 0.9667\n",
      "Epoch 87/100\n",
      "198/198 [==============================] - 21s 107ms/step - loss: 9.0027e-05 - accuracy: 1.0000 - val_loss: 0.7329 - val_accuracy: 0.9667\n",
      "Epoch 88/100\n",
      "198/198 [==============================] - 22s 110ms/step - loss: 6.3901e-05 - accuracy: 1.0000 - val_loss: 0.7525 - val_accuracy: 0.9667\n",
      "Epoch 89/100\n",
      "198/198 [==============================] - 23s 118ms/step - loss: 4.7192e-05 - accuracy: 1.0000 - val_loss: 0.7658 - val_accuracy: 0.9667\n",
      "Epoch 90/100\n",
      "198/198 [==============================] - 20s 101ms/step - loss: 3.9417e-05 - accuracy: 1.0000 - val_loss: 0.7903 - val_accuracy: 0.9667\n",
      "Epoch 91/100\n",
      "198/198 [==============================] - 23s 114ms/step - loss: 0.0137 - accuracy: 0.9949 - val_loss: 0.7026 - val_accuracy: 0.9667\n",
      "Epoch 92/100\n",
      "198/198 [==============================] - 22s 112ms/step - loss: 0.0867 - accuracy: 0.9815 - val_loss: 0.3862 - val_accuracy: 0.9667\n",
      "Epoch 93/100\n",
      "198/198 [==============================] - 23s 115ms/step - loss: 0.0330 - accuracy: 0.9916 - val_loss: 0.5743 - val_accuracy: 0.9667\n",
      "Epoch 94/100\n",
      "198/198 [==============================] - 21s 107ms/step - loss: 0.0031 - accuracy: 1.0000 - val_loss: 0.5936 - val_accuracy: 0.9667\n",
      "Epoch 95/100\n",
      "198/198 [==============================] - 21s 105ms/step - loss: 5.8988e-04 - accuracy: 1.0000 - val_loss: 0.6319 - val_accuracy: 0.9667\n",
      "Epoch 96/100\n",
      "198/198 [==============================] - 21s 106ms/step - loss: 0.0239 - accuracy: 0.9933 - val_loss: 0.7645 - val_accuracy: 0.9667\n",
      "Epoch 97/100\n",
      "198/198 [==============================] - 21s 105ms/step - loss: 0.0094 - accuracy: 0.9966 - val_loss: 0.6892 - val_accuracy: 0.9667\n",
      "Epoch 98/100\n",
      "198/198 [==============================] - 23s 114ms/step - loss: 0.0158 - accuracy: 0.9966 - val_loss: 0.7205 - val_accuracy: 0.9667\n",
      "Epoch 99/100\n",
      "198/198 [==============================] - 21s 106ms/step - loss: 0.0013 - accuracy: 1.0000 - val_loss: 0.6869 - val_accuracy: 0.9667\n",
      "Epoch 100/100\n",
      "198/198 [==============================] - 22s 113ms/step - loss: 0.0087 - accuracy: 0.9966 - val_loss: 0.5165 - val_accuracy: 0.9667\n"
     ]
    },
    {
     "data": {
      "text/plain": [
       "<keras.callbacks.History at 0x21fe765a070>"
      ]
     },
     "execution_count": 13,
     "metadata": {},
     "output_type": "execute_result"
    }
   ],
   "source": [
    "model.fit(x_train,steps_per_epoch = 594/3 ,epochs = 100,validation_data = x_test,validation_steps = 30/3 )"
   ]
  },
  {
   "cell_type": "markdown",
   "metadata": {},
   "source": [
    "### Save the Model"
   ]
  },
  {
   "cell_type": "code",
   "execution_count": 14,
   "metadata": {},
   "outputs": [],
   "source": [
    "model.save('gesture.h5')"
   ]
  },
  {
   "cell_type": "code",
   "execution_count": 15,
   "metadata": {},
   "outputs": [],
   "source": [
    "model_json = model.to_json()\n",
    "with open(\"model-bw.json\", \"w\") as json_file:\n",
    "    json_file.write(model_json)"
   ]
  },
  {
   "cell_type": "code",
   "execution_count": null,
   "metadata": {},
   "outputs": [],
   "source": []
  }
 ],
 "metadata": {
  "kernelspec": {
   "display_name": "Python 3 (ipykernel)",
   "language": "python",
   "name": "python3"
  },
  "language_info": {
   "codemirror_mode": {
    "name": "ipython",
    "version": 3
   },
   "file_extension": ".py",
   "mimetype": "text/x-python",
   "name": "python",
   "nbconvert_exporter": "python",
   "pygments_lexer": "ipython3",
   "version": "3.9.13"
  }
 },
 "nbformat": 4,
 "nbformat_minor": 4
}
